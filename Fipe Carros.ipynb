{
 "cells": [
  {
   "cell_type": "code",
   "execution_count": 1,
   "id": "9bb8e731-9998-4b78-b25d-5c305455ece6",
   "metadata": {},
   "outputs": [
    {
     "name": "stdout",
     "output_type": "stream",
     "text": [
      "Requirement already satisfied: requests in c:\\users\\webso\\anaconda3\\lib\\site-packages (2.32.3)\n",
      "Requirement already satisfied: charset-normalizer<4,>=2 in c:\\users\\webso\\anaconda3\\lib\\site-packages (from requests) (3.3.2)\n",
      "Requirement already satisfied: idna<4,>=2.5 in c:\\users\\webso\\anaconda3\\lib\\site-packages (from requests) (3.7)\n",
      "Requirement already satisfied: urllib3<3,>=1.21.1 in c:\\users\\webso\\anaconda3\\lib\\site-packages (from requests) (2.2.3)\n",
      "Requirement already satisfied: certifi>=2017.4.17 in c:\\users\\webso\\anaconda3\\lib\\site-packages (from requests) (2024.8.30)\n"
     ]
    }
   ],
   "source": [
    "!pip install requests"
   ]
  },
  {
   "cell_type": "code",
   "execution_count": 2,
   "id": "d06b1f95-0e9c-4316-9ee2-18aa3cbfb5a1",
   "metadata": {},
   "outputs": [
    {
     "name": "stdout",
     "output_type": "stream",
     "text": [
      "requests importado com sucesso! 2.32.3\n"
     ]
    }
   ],
   "source": [
    "import requests\n",
    "print(\"requests importado com sucesso!\", requests.__version__)"
   ]
  },
  {
   "cell_type": "code",
   "execution_count": 3,
   "id": "29041874-962d-4362-abf1-599f62582b89",
   "metadata": {},
   "outputs": [],
   "source": [
    "import requests\n",
    "\n",
    "BASE_URL = \"https://veiculos.fipe.org.br/api/veiculos\"\n",
    "\n",
    "headers = {\n",
    "    \"Content-Type\": \"application/json\",\n",
    "    \"Referer\": \"https://veiculos.fipe.org.br/\",\n",
    "}\n",
    "\n",
    "def get_tabela_referencia():\n",
    "    resp = requests.post(f\"{BASE_URL}/ConsultarTabelaDeReferencia\", headers=headers)\n",
    "    return resp.json()[0][\"Codigo\"]\n",
    "\n",
    "def get_marcas(tipo, tabela):\n",
    "    payload = {\"codigoTabelaReferencia\": tabela, \"codigoTipoVeiculo\": tipo}\n",
    "    resp = requests.post(f\"{BASE_URL}/ConsultarMarcas\", headers=headers, json=payload)\n",
    "    return resp.json()\n",
    "\n",
    "def get_modelos(tipo, tabela, marca):\n",
    "    payload = {\n",
    "        \"codigoTabelaReferencia\": tabela,\n",
    "        \"codigoTipoVeiculo\": tipo,\n",
    "        \"codigoMarca\": marca,\n",
    "    }\n",
    "    resp = requests.post(f\"{BASE_URL}/ConsultarModelos\", headers=headers, json=payload)\n",
    "    return resp.json()[\"Modelos\"]\n",
    "\n",
    "def get_anos(tipo, tabela, marca, modelo):\n",
    "    payload = {\n",
    "        \"codigoTabelaReferencia\": tabela,\n",
    "        \"codigoTipoVeiculo\": tipo,\n",
    "        \"codigoMarca\": marca,\n",
    "        \"codigoModelo\": modelo,\n",
    "    }\n",
    "    resp = requests.post(f\"{BASE_URL}/ConsultarAnoModelo\", headers=headers, json=payload)\n",
    "    return resp.json()\n",
    "\n",
    "def get_valor(tipo, tabela, marca, modelo, ano, codigo_combustivel):\n",
    "    payload = {\n",
    "        \"codigoTabelaReferencia\": tabela,\n",
    "        \"codigoMarca\": marca,\n",
    "        \"codigoModelo\": modelo,\n",
    "        \"codigoTipoVeiculo\": tipo,\n",
    "        \"anoModelo\": int(ano),\n",
    "        \"codigoTipoCombustivel\": int(codigo_combustivel),\n",
    "        \"tipoConsulta\": \"tradicional\",\n",
    "        \"modeloCodigoExterno\": None,\n",
    "    }\n",
    "    resp = requests.post(f\"{BASE_URL}/ConsultarValorComTodosParametros\", headers=headers, json=payload)\n",
    "    return resp.json()\n"
   ]
  },
  {
   "cell_type": "code",
   "execution_count": 4,
   "id": "848a5261-8e15-400e-8147-800958b0b8fa",
   "metadata": {},
   "outputs": [
    {
     "name": "stdout",
     "output_type": "stream",
     "text": [
      "Tabela de referência obtida: 322\n"
     ]
    }
   ],
   "source": [
    "# Vamos verificar se conseguimos puxar corretamente a tabela FIPE\n",
    "tabela = get_tabela_referencia()\n",
    "print(\"Tabela de referência obtida:\", tabela)\n"
   ]
  },
  {
   "cell_type": "code",
   "execution_count": 5,
   "id": "115013ca-576e-4438-8e0a-ad4f1571fde9",
   "metadata": {},
   "outputs": [
    {
     "name": "stdout",
     "output_type": "stream",
     "text": [
      "Tabela de referência: 322\n",
      "60 - ADLY\n",
      "61 - AGRALE\n",
      "131 - AMAZONAS\n",
      "62 - APRILIA\n",
      "63 - ATALA\n",
      "216 - AVELLOZ\n",
      "64 - BAJAJ\n",
      "205 - BEE\n",
      "162 - Benelli\n",
      "65 - BETA\n",
      "66 - BIMOTA\n",
      "67 - BMW\n",
      "68 - BRANDY\n",
      "130 - BRAVA\n",
      "150 - BRP\n",
      "117 - BUELL\n",
      "155 - BUENO\n",
      "212 - BULL\n",
      "69 - byCristo\n",
      "70 - CAGIVA\n",
      "71 - CALOI\n",
      "72 - DAELIM\n",
      "145 - DAFRA\n",
      "137 - DAYANG\n",
      "142 - DAYUN\n",
      "73 - DERBI\n",
      "74 - DUCATI\n",
      "75 - EMME\n",
      "248 - FEVER\n",
      "132 - FOX\n",
      "209 - FUSCO MOTOSEGURA\n",
      "128 - FYM\n",
      "143 - GARINNI\n",
      "76 - GAS GAS\n",
      "133 - GREEN\n",
      "138 - HAOBAO\n",
      "203 - HAOJUE\n",
      "77 - HARLEY-DAVIDSON\n",
      "78 - HARTFORD\n",
      "79 - HERO\n",
      "80 - HONDA\n",
      "81 - HUSABERG\n",
      "82 - HUSQVARNA\n",
      "202 - INDIAN\n",
      "158 - IROS\n",
      "141 - JIAPENG VOLCANO\n",
      "174 - JOHNNYPAG\n",
      "151 - JONNY\n",
      "129 - KAHENA\n",
      "118 - KASINSKI\n",
      "85 - KAWASAKI\n",
      "87 - KTM\n",
      "204 - KYMCO\n",
      "159 - LANDUM\n",
      "88 - L'AQUILA\n",
      "89 - LAVRALE\n",
      "139 - LERIVO\n",
      "178 - LIFAN\n",
      "148 - Lon-V\n",
      "175 - MAGRÃO TRICICLOS\n",
      "146 - Malaguti\n",
      "126 - MIZA\n",
      "90 - MOTO GUZZI\n",
      "201 - MOTOCAR\n",
      "200 - MOTORINO\n",
      "160 - MRX\n",
      "91 - MV AGUSTA\n",
      "92 - MVK\n",
      "239 - NIU\n",
      "93 - ORCA\n",
      "164 - PEGASSI\n",
      "94 - PEUGEOT\n",
      "95 - PIAGGIO\n",
      "210 - POLARIS\n",
      "173 - REGAL RAPTOR\n",
      "198 - RIGUETE\n",
      "192 - Royal Enfield\n",
      "96 - SANYANG\n",
      "134 - SHINERAY\n",
      "97 - SIAMOTO\n",
      "98 - SUNDOWN\n",
      "237 - SUPER SOCO\n",
      "99 - SUZUKI\n",
      "176 - TARGOS\n",
      "187 - TIGER\n",
      "119 - TRAXX\n",
      "100 - TRIUMPH\n",
      "244 - Ventane Motors\n",
      "180 - VENTO\n",
      "215 - VOLTZ\n",
      "243 - WATTS\n",
      "135 - WUYANG\n",
      "101 - YAMAHA\n",
      "242 - ZONTES\n"
     ]
    }
   ],
   "source": [
    "# Obter a tabela de referência FIPE\n",
    "tabela = get_tabela_referencia()\n",
    "print(\"Tabela de referência:\", tabela)\n",
    "\n",
    "# Buscar as marcas de carros (tipo 1) e exibir as 10 primeiras\n",
    "tipo_veiculo = 2  # 1 = carro\n",
    "marcas_carros = get_marcas(tipo_veiculo, tabela)\n",
    "\n",
    "# Exibir as 10 primeiras marcas para escolher\n",
    "for m in marcas_carros[:200]:\n",
    "    print(f\"{m['Value']} - {m['Label']}\")\n"
   ]
  },
  {
   "cell_type": "code",
   "execution_count": 6,
   "id": "a3bebef3-0575-4ef5-b858-d2b651a25836",
   "metadata": {},
   "outputs": [
    {
     "name": "stdout",
     "output_type": "stream",
     "text": [
      "5225 – 1190 RC8\n",
      "5517 – 1190 RC8 R\n",
      "5201 – 690 ENDURO /ENDURO R\n",
      "7608 – ADVENTURE 1190 R\n",
      "7144 – ADVENTURE 1190cc\n",
      "2910 – ADVENTURE 640 ST\n",
      "2911 – ADVENTURE 950cc\n",
      "4208 – ADVENTURE 990cc\n",
      "5518 – ADVENTURE R / DAKAR 990cc\n",
      "7332 – DUKE 200/ABS\n",
      "7333 – DUKE 390\n",
      "2912 – DUKE 640/ DUKE II 640\n",
      "5351 – DUKE 690\n",
      "2913 – EXC 125\n",
      "2914 – EXC 200\n",
      "2915 – EXC 250\n",
      "2916 – EXC 300\n",
      "2917 – EXC 380\n",
      "2918 – EXC 400\n",
      "3862 – EXC 450\n",
      "2919 – EXC 520\n",
      "4077 – EXC 525\n",
      "7242 – EXC-F 250\n",
      "7334 – EXC-F 250 SIX DAYS\n",
      "7335 – EXC-F 300 SIX DAYS\n",
      "7243 – EXC-F 350\n",
      "8493 – EXC-F 350 SIX DAYS\n",
      "2920 – LC4 640 TRAIL\n",
      "2921 – SC 620\n",
      "7609 – SUPER ADVENTURE 1290\n",
      "8072 – SUPER ADVENTURE 1290 R\n",
      "8117 – SUPER ADVENTURE 1290 S\n",
      "8260 – SUPERDUKE 1290 GT\n",
      "7244 – SUPERDUKE 1290 R\n",
      "4078 – SUPERDUKE 990\n",
      "4512 – SUPERMOTO 690\n",
      "5519 – SUPERMOTO 990 R\n",
      "5263 – SUPERMOTO 990 T\n",
      "2922 – SX 125\n",
      "2923 – SX 250/ SX 250 F\n",
      "5520 – SX 350 / 350 F\n",
      "2924 – SX 450/ SX 450F\n",
      "2925 – SX 50\n",
      "2926 – SX 65\n",
      "2927 – SX 85\n",
      "2928 – SXC 520/ 540\n",
      "2929 – SXC 625\n"
     ]
    }
   ],
   "source": [
    "# Código de exemplo: listar os modelos da marca \"FIAT\" (código 59)\n",
    "tipo_veiculo  = 2       # 1 = carro\n",
    "codigo_marca  = 87      # <– substitua aqui pelo código da marca que você escolheu>\n",
    "tabela        = get_tabela_referencia()\n",
    "\n",
    "modelos_fiat = get_modelos(tipo_veiculo, tabela, codigo_marca)\n",
    "\n",
    "# Exibir os 10 primeiros modelos para facilitar a escolha\n",
    "for m in modelos_fiat[:300]:\n",
    "    print(f\"{m['Value']} – {m['Label']}\")\n"
   ]
  },
  {
   "cell_type": "code",
   "execution_count": 7,
   "id": "7f19c0ec-b12d-4edb-8beb-8f6a1b2e19ee",
   "metadata": {},
   "outputs": [
    {
     "name": "stdout",
     "output_type": "stream",
     "text": [
      "32000-1 – 32000\n",
      "2025-1 – 2025\n",
      "2024-1 – 2024\n",
      "2023-1 – 2023\n",
      "2022-1 – 2022\n",
      "2021-1 – 2021\n",
      "2020-1 – 2020\n",
      "2019-1 – 2019\n",
      "2018-1 – 2018\n",
      "2017-1 – 2017\n"
     ]
    }
   ],
   "source": [
    "# Exemplo: listar anos do modelo com código 5940\n",
    "tipo_veiculo   = 2     # 1 = carro\n",
    "codigo_marca   = 87    # continua sendo FIAT (ou o código que você usou)\n",
    "codigo_modelo  = 7333   # substitua pelo código do modelo escolhido\n",
    "tabela         = get_tabela_referencia()\n",
    "\n",
    "anos_disponiveis = get_anos(tipo_veiculo, tabela, codigo_marca, codigo_modelo)\n",
    "\n",
    "# Mostrar os 10 primeiros anos para facilitar\n",
    "for a in anos_disponiveis[:10]:\n",
    "    print(f\"{a['Value']} – {a['Label']}\")\n"
   ]
  },
  {
   "cell_type": "code",
   "execution_count": 8,
   "id": "73ccfa75-c125-49ed-87ad-8fe748ea4782",
   "metadata": {},
   "outputs": [
    {
     "name": "stdout",
     "output_type": "stream",
     "text": [
      "\n",
      "--- Resultado FIPE ---\n",
      "Veículo: BMW 118iA 2.0 16V 136cv 5p\n",
      "Ano/Combustível: 2012 / Gasolina\n",
      "Preço FIPE: R$ 55.378,00\n"
     ]
    }
   ],
   "source": [
    "# Exemplo: consultar preço FIPE de FIAT Argo 1.0 FIRE FLEX 2023 (código 2023-1)\n",
    "tipo_veiculo       = 1         # 1 = carro\n",
    "codigo_marca       = 7        # FIAT\n",
    "codigo_modelo      = 4960      # Argo 1.0 FIRE FLEX (exemplo)\n",
    "ano_modelo_combust = \"2012-1\"  # substitua pelo valor exato que você anotou\n",
    "tabela             = get_tabela_referencia()\n",
    "\n",
    "# Separe em ano e tipo de combustível\n",
    "ano_modelo   = ano_modelo_combust.split(\"-\")[0]       # ex.: \"2023\"\n",
    "cod_combust  = ano_modelo_combust.split(\"-\")[1]       # ex.: \"1\" para Gasolina\n",
    "\n",
    "resultado = get_valor(\n",
    "    tipo_veiculo,\n",
    "    tabela,\n",
    "    codigo_marca,\n",
    "    codigo_modelo,\n",
    "    ano_modelo,\n",
    "    cod_combust\n",
    ")\n",
    "\n",
    "print(\"\\n--- Resultado FIPE ---\")\n",
    "print(f\"Veículo: {resultado['Marca']} {resultado['Modelo']}\")\n",
    "print(f\"Ano/Combustível: {resultado['AnoModelo']} / {resultado['Combustivel']}\")\n",
    "print(f\"Preço FIPE: {resultado['Valor']}\")\n"
   ]
  },
  {
   "cell_type": "code",
   "execution_count": null,
   "id": "7e40e8e0-d09f-4f70-bebf-d583437c03bd",
   "metadata": {},
   "outputs": [],
   "source": []
  }
 ],
 "metadata": {
  "kernelspec": {
   "display_name": "Python 3 (ipykernel)",
   "language": "python",
   "name": "python3"
  },
  "language_info": {
   "codemirror_mode": {
    "name": "ipython",
    "version": 3
   },
   "file_extension": ".py",
   "mimetype": "text/x-python",
   "name": "python",
   "nbconvert_exporter": "python",
   "pygments_lexer": "ipython3",
   "version": "3.12.7"
  }
 },
 "nbformat": 4,
 "nbformat_minor": 5
}
