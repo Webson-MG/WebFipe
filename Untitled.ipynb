{
 "cells": [
  {
   "cell_type": "code",
   "execution_count": 1,
   "id": "daeb229c-1056-4a8b-9581-d2088859c2ae",
   "metadata": {},
   "outputs": [
    {
     "name": "stdout",
     "output_type": "stream",
     "text": [
      "Requirement already satisfied: requests in c:\\users\\webso\\anaconda3\\lib\\site-packages (2.32.3)\n",
      "Requirement already satisfied: charset-normalizer<4,>=2 in c:\\users\\webso\\anaconda3\\lib\\site-packages (from requests) (3.3.2)\n",
      "Requirement already satisfied: idna<4,>=2.5 in c:\\users\\webso\\anaconda3\\lib\\site-packages (from requests) (3.7)\n",
      "Requirement already satisfied: urllib3<3,>=1.21.1 in c:\\users\\webso\\anaconda3\\lib\\site-packages (from requests) (2.2.3)\n",
      "Requirement already satisfied: certifi>=2017.4.17 in c:\\users\\webso\\anaconda3\\lib\\site-packages (from requests) (2024.8.30)\n"
     ]
    }
   ],
   "source": [
    "!pip install requests"
   ]
  },
  {
   "cell_type": "code",
   "execution_count": 2,
   "id": "20ed5c0e-c715-4197-b3ee-84b7b8b80c4e",
   "metadata": {},
   "outputs": [],
   "source": [
    "import requests\n",
    "\n",
    "BASE_URL = \"https://veiculos.fipe.org.br/api/veiculos\"\n",
    "\n",
    "headers = {\n",
    "    \"Content-Type\": \"application/json\",\n",
    "    \"Referer\": \"https://veiculos.fipe.org.br/\",\n",
    "}\n",
    "\n",
    "def get_tabela_referencia():\n",
    "    resp = requests.post(f\"{BASE_URL}/ConsultarTabelaDeReferencia\", headers=headers)\n",
    "    return resp.json()[0][\"Codigo\"]\n",
    "\n",
    "def get_marcas(tipo, tabela):\n",
    "    payload = {\"codigoTabelaReferencia\": tabela, \"codigoTipoVeiculo\": tipo}\n",
    "    resp = requests.post(f\"{BASE_URL}/ConsultarMarcas\", headers=headers, json=payload)\n",
    "    return resp.json()\n",
    "\n",
    "def get_modelos(tipo, tabela, marca):\n",
    "    payload = {\n",
    "        \"codigoTabelaReferencia\": tabela,\n",
    "        \"codigoTipoVeiculo\": tipo,\n",
    "        \"codigoMarca\": marca,\n",
    "    }\n",
    "    resp = requests.post(f\"{BASE_URL}/ConsultarModelos\", headers=headers, json=payload)\n",
    "    return resp.json()[\"Modelos\"]\n",
    "\n",
    "def get_anos(tipo, tabela, marca, modelo):\n",
    "    payload = {\n",
    "        \"codigoTabelaReferencia\": tabela,\n",
    "        \"codigoTipoVeiculo\": tipo,\n",
    "        \"codigoMarca\": marca,\n",
    "        \"codigoModelo\": modelo,\n",
    "    }\n",
    "    resp = requests.post(f\"{BASE_URL}/ConsultarAnoModelo\", headers=headers, json=payload)\n",
    "    return resp.json()\n",
    "\n",
    "def get_valor(tipo, tabela, marca, modelo, ano, codigo_combustivel):\n",
    "    payload = {\n",
    "        \"codigoTabelaReferencia\": tabela,\n",
    "        \"codigoMarca\": marca,\n",
    "        \"codigoModelo\": modelo,\n",
    "        \"codigoTipoVeiculo\": tipo,\n",
    "        \"anoModelo\": int(ano),\n",
    "        \"codigoTipoCombustivel\": int(codigo_combustivel),\n",
    "        \"tipoConsulta\": \"tradicional\",\n",
    "        \"modeloCodigoExterno\": None,\n",
    "    }\n",
    "    resp = requests.post(f\"{BASE_URL}/ConsultarValorComTodosParametros\", headers=headers, json=payload)\n",
    "    return resp.json()\n"
   ]
  },
  {
   "cell_type": "code",
   "execution_count": null,
   "id": "f1535122-a53c-43b8-9c82-6fd5e4d7b6ec",
   "metadata": {},
   "outputs": [],
   "source": []
  },
  {
   "cell_type": "code",
   "execution_count": 4,
   "id": "690b967a-363d-454c-8293-f2f45b115a0f",
   "metadata": {},
   "outputs": [],
   "source": [
    "import requests\n",
    "\n",
    "BASE_URL = \"https://veiculos.fipe.org.br/api/veiculos\"\n",
    "\n",
    "headers = {\n",
    "    \"Content-Type\": \"application/json\",\n",
    "    \"Referer\": \"https://veiculos.fipe.org.br/\",\n",
    "}\n",
    "\n",
    "def get_tabela_referencia():\n",
    "    resp = requests.post(f\"{BASE_URL}/ConsultarTabelaDeReferencia\", headers=headers)\n",
    "    return resp.json()[0][\"Codigo\"]\n",
    "\n",
    "def get_marcas(tipo, tabela):\n",
    "    payload = {\"codigoTabelaReferencia\": tabela, \"codigoTipoVeiculo\": tipo}\n",
    "    resp = requests.post(f\"{BASE_URL}/ConsultarMarcas\", headers=headers, json=payload)\n",
    "    return resp.json()\n",
    "\n",
    "def get_modelos(tipo, tabela, marca):\n",
    "    payload = {\n",
    "        \"codigoTabelaReferencia\": tabela,\n",
    "        \"codigoTipoVeiculo\": tipo,\n",
    "        \"codigoMarca\": marca,\n",
    "    }\n",
    "    resp = requests.post(f\"{BASE_URL}/ConsultarModelos\", headers=headers, json=payload)\n",
    "    return resp.json()[\"Modelos\"]\n",
    "\n",
    "def get_anos(tipo, tabela, marca, modelo):\n",
    "    payload = {\n",
    "        \"codigoTabelaReferencia\": tabela,\n",
    "        \"codigoTipoVeiculo\": tipo,\n",
    "        \"codigoMarca\": marca,\n",
    "        \"codigoModelo\": modelo,\n",
    "    }\n",
    "    resp = requests.post(f\"{BASE_URL}/ConsultarAnoModelo\", headers=headers, json=payload)\n",
    "    return resp.json()\n",
    "\n",
    "def get_valor(tipo, tabela, marca, modelo, ano, codigo_combustivel):\n",
    "    payload = {\n",
    "        \"codigoTabelaReferencia\": tabela,\n",
    "        \"codigoMarca\": marca,\n",
    "        \"codigoModelo\": modelo,\n",
    "        \"codigoTipoVeiculo\": tipo,\n",
    "        \"anoModelo\": int(ano),\n",
    "        \"codigoTipoCombustivel\": int(codigo_combustivel),\n",
    "        \"tipoConsulta\": \"tradicional\",\n",
    "        \"modeloCodigoExterno\": None,\n",
    "    }\n",
    "    resp = requests.post(f\"{BASE_URL}/ConsultarValorComTodosParametros\", headers=headers, json=payload)\n",
    "    return resp.json()\n"
   ]
  },
  {
   "cell_type": "code",
   "execution_count": null,
   "id": "a81c3a1c-fe8b-48e2-991e-b25d0a87afd4",
   "metadata": {},
   "outputs": [],
   "source": []
  },
  {
   "cell_type": "code",
   "execution_count": null,
   "id": "f01b3116-2b90-43e6-b15b-26764f1f41f6",
   "metadata": {},
   "outputs": [],
   "source": []
  }
 ],
 "metadata": {
  "kernelspec": {
   "display_name": "Python 3 (ipykernel)",
   "language": "python",
   "name": "python3"
  },
  "language_info": {
   "codemirror_mode": {
    "name": "ipython",
    "version": 3
   },
   "file_extension": ".py",
   "mimetype": "text/x-python",
   "name": "python",
   "nbconvert_exporter": "python",
   "pygments_lexer": "ipython3",
   "version": "3.12.7"
  }
 },
 "nbformat": 4,
 "nbformat_minor": 5
}
