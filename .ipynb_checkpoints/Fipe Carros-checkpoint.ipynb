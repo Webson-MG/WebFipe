{
 "cells": [
  {
   "cell_type": "code",
   "execution_count": 1,
   "id": "9bb8e731-9998-4b78-b25d-5c305455ece6",
   "metadata": {},
   "outputs": [
    {
     "name": "stdout",
     "output_type": "stream",
     "text": [
      "Requirement already satisfied: requests in c:\\users\\webso\\anaconda3\\lib\\site-packages (2.32.3)\n",
      "Requirement already satisfied: charset-normalizer<4,>=2 in c:\\users\\webso\\anaconda3\\lib\\site-packages (from requests) (3.3.2)\n",
      "Requirement already satisfied: idna<4,>=2.5 in c:\\users\\webso\\anaconda3\\lib\\site-packages (from requests) (3.7)\n",
      "Requirement already satisfied: urllib3<3,>=1.21.1 in c:\\users\\webso\\anaconda3\\lib\\site-packages (from requests) (2.2.3)\n",
      "Requirement already satisfied: certifi>=2017.4.17 in c:\\users\\webso\\anaconda3\\lib\\site-packages (from requests) (2024.8.30)\n"
     ]
    }
   ],
   "source": [
    "!pip install requests"
   ]
  },
  {
   "cell_type": "code",
   "execution_count": 2,
   "id": "d06b1f95-0e9c-4316-9ee2-18aa3cbfb5a1",
   "metadata": {},
   "outputs": [
    {
     "name": "stdout",
     "output_type": "stream",
     "text": [
      "requests importado com sucesso! 2.32.3\n"
     ]
    }
   ],
   "source": [
    "import requests\n",
    "print(\"requests importado com sucesso!\", requests.__version__)"
   ]
  },
  {
   "cell_type": "code",
   "execution_count": 3,
   "id": "29041874-962d-4362-abf1-599f62582b89",
   "metadata": {},
   "outputs": [],
   "source": [
    "import requests\n",
    "\n",
    "BASE_URL = \"https://veiculos.fipe.org.br/api/veiculos\"\n",
    "\n",
    "headers = {\n",
    "    \"Content-Type\": \"application/json\",\n",
    "    \"Referer\": \"https://veiculos.fipe.org.br/\",\n",
    "}\n",
    "\n",
    "def get_tabela_referencia():\n",
    "    resp = requests.post(f\"{BASE_URL}/ConsultarTabelaDeReferencia\", headers=headers)\n",
    "    return resp.json()[0][\"Codigo\"]\n",
    "\n",
    "def get_marcas(tipo, tabela):\n",
    "    payload = {\"codigoTabelaReferencia\": tabela, \"codigoTipoVeiculo\": tipo}\n",
    "    resp = requests.post(f\"{BASE_URL}/ConsultarMarcas\", headers=headers, json=payload)\n",
    "    return resp.json()\n",
    "\n",
    "def get_modelos(tipo, tabela, marca):\n",
    "    payload = {\n",
    "        \"codigoTabelaReferencia\": tabela,\n",
    "        \"codigoTipoVeiculo\": tipo,\n",
    "        \"codigoMarca\": marca,\n",
    "    }\n",
    "    resp = requests.post(f\"{BASE_URL}/ConsultarModelos\", headers=headers, json=payload)\n",
    "    return resp.json()[\"Modelos\"]\n",
    "\n",
    "def get_anos(tipo, tabela, marca, modelo):\n",
    "    payload = {\n",
    "        \"codigoTabelaReferencia\": tabela,\n",
    "        \"codigoTipoVeiculo\": tipo,\n",
    "        \"codigoMarca\": marca,\n",
    "        \"codigoModelo\": modelo,\n",
    "    }\n",
    "    resp = requests.post(f\"{BASE_URL}/ConsultarAnoModelo\", headers=headers, json=payload)\n",
    "    return resp.json()\n",
    "\n",
    "def get_valor(tipo, tabela, marca, modelo, ano, codigo_combustivel):\n",
    "    payload = {\n",
    "        \"codigoTabelaReferencia\": tabela,\n",
    "        \"codigoMarca\": marca,\n",
    "        \"codigoModelo\": modelo,\n",
    "        \"codigoTipoVeiculo\": tipo,\n",
    "        \"anoModelo\": int(ano),\n",
    "        \"codigoTipoCombustivel\": int(codigo_combustivel),\n",
    "        \"tipoConsulta\": \"tradicional\",\n",
    "        \"modeloCodigoExterno\": None,\n",
    "    }\n",
    "    resp = requests.post(f\"{BASE_URL}/ConsultarValorComTodosParametros\", headers=headers, json=payload)\n",
    "    return resp.json()\n"
   ]
  },
  {
   "cell_type": "code",
   "execution_count": 4,
   "id": "848a5261-8e15-400e-8147-800958b0b8fa",
   "metadata": {},
   "outputs": [
    {
     "name": "stdout",
     "output_type": "stream",
     "text": [
      "Tabela de referência obtida: 322\n"
     ]
    }
   ],
   "source": [
    "# Vamos verificar se conseguimos puxar corretamente a tabela FIPE\n",
    "tabela = get_tabela_referencia()\n",
    "print(\"Tabela de referência obtida:\", tabela)\n"
   ]
  },
  {
   "cell_type": "code",
   "execution_count": 5,
   "id": "115013ca-576e-4438-8e0a-ad4f1571fde9",
   "metadata": {},
   "outputs": [
    {
     "name": "stdout",
     "output_type": "stream",
     "text": [
      "Tabela de referência: 322\n",
      "1 - Acura\n",
      "2 - Agrale\n",
      "3 - Alfa Romeo\n",
      "4 - AM Gen\n",
      "5 - Asia Motors\n",
      "189 - ASTON MARTIN\n",
      "6 - Audi\n",
      "207 - Baby\n",
      "7 - BMW\n",
      "8 - BRM\n"
     ]
    }
   ],
   "source": [
    "# Obter a tabela de referência FIPE\n",
    "tabela = get_tabela_referencia()\n",
    "print(\"Tabela de referência:\", tabela)\n",
    "\n",
    "# Buscar as marcas de carros (tipo 1) e exibir as 10 primeiras\n",
    "tipo_veiculo = 1  # 1 = carro\n",
    "marcas_carros = get_marcas(tipo_veiculo, tabela)\n",
    "\n",
    "# Exibir as 10 primeiras marcas para escolher\n",
    "for m in marcas_carros[:10]:\n",
    "    print(f\"{m['Value']} - {m['Label']}\")\n"
   ]
  },
  {
   "cell_type": "code",
   "execution_count": 6,
   "id": "a3bebef3-0575-4ef5-b858-d2b651a25836",
   "metadata": {},
   "outputs": [
    {
     "name": "stdout",
     "output_type": "stream",
     "text": [
      "6146 – 116iA 1.6 TB 16V 136cv 5p\n",
      "9955 – 118i M Sport 1.5 TB 12V Aut. 5p\n",
      "8946 – 118i Sport 1.5 TB 12V Aut. 5p\n",
      "5576 – 118iA 2.0 16V 136cv 3p\n",
      "4960 – 118iA 2.0 16V 136cv 5p\n",
      "6147 – 118iA Full 1.6 TB 16V 170cv 5p\n",
      "5923 – 118iA/ Urban/Sport 1.6 TB 16V 170cv 5p\n",
      "152 – 120i 2.0 16V 150cv/ 156cv 5p\n",
      "153 – 120iA 2.0 16V 150cv/ 156cv 5p\n",
      "4700 – 120iA 2.0 16V 156cv 3p\n"
     ]
    }
   ],
   "source": [
    "# Código de exemplo: listar os modelos da marca \"FIAT\" (código 59)\n",
    "tipo_veiculo  = 1       # 1 = carro\n",
    "codigo_marca  = 7      # <– substitua aqui pelo código da marca que você escolheu>\n",
    "tabela        = get_tabela_referencia()\n",
    "\n",
    "modelos_fiat = get_modelos(tipo_veiculo, tabela, codigo_marca)\n",
    "\n",
    "# Exibir os 10 primeiros modelos para facilitar a escolha\n",
    "for m in modelos_fiat[:10]:\n",
    "    print(f\"{m['Value']} – {m['Label']}\")\n"
   ]
  },
  {
   "cell_type": "code",
   "execution_count": 7,
   "id": "7f19c0ec-b12d-4edb-8beb-8f6a1b2e19ee",
   "metadata": {},
   "outputs": [
    {
     "name": "stdout",
     "output_type": "stream",
     "text": [
      "2012-1 – 2012 Gasolina\n",
      "2011-1 – 2011 Gasolina\n",
      "2010-1 – 2010 Gasolina\n"
     ]
    }
   ],
   "source": [
    "# Exemplo: listar anos do modelo com código 5940\n",
    "tipo_veiculo   = 1     # 1 = carro\n",
    "codigo_marca   = 7    # continua sendo FIAT (ou o código que você usou)\n",
    "codigo_modelo  = 4960  # substitua pelo código do modelo escolhido\n",
    "tabela         = get_tabela_referencia()\n",
    "\n",
    "anos_disponiveis = get_anos(tipo_veiculo, tabela, codigo_marca, codigo_modelo)\n",
    "\n",
    "# Mostrar os 10 primeiros anos para facilitar\n",
    "for a in anos_disponiveis[:10]:\n",
    "    print(f\"{a['Value']} – {a['Label']}\")\n"
   ]
  },
  {
   "cell_type": "code",
   "execution_count": 8,
   "id": "73ccfa75-c125-49ed-87ad-8fe748ea4782",
   "metadata": {},
   "outputs": [
    {
     "name": "stdout",
     "output_type": "stream",
     "text": [
      "\n",
      "--- Resultado FIPE ---\n",
      "Veículo: BMW 118iA 2.0 16V 136cv 5p\n",
      "Ano/Combustível: 2012 / Gasolina\n",
      "Preço FIPE: R$ 55.378,00\n"
     ]
    }
   ],
   "source": [
    "# Exemplo: consultar preço FIPE de FIAT Argo 1.0 FIRE FLEX 2023 (código 2023-1)\n",
    "tipo_veiculo       = 1         # 1 = carro\n",
    "codigo_marca       = 7        # FIAT\n",
    "codigo_modelo      = 4960      # Argo 1.0 FIRE FLEX (exemplo)\n",
    "ano_modelo_combust = \"2012-1\"  # substitua pelo valor exato que você anotou\n",
    "tabela             = get_tabela_referencia()\n",
    "\n",
    "# Separe em ano e tipo de combustível\n",
    "ano_modelo   = ano_modelo_combust.split(\"-\")[0]       # ex.: \"2023\"\n",
    "cod_combust  = ano_modelo_combust.split(\"-\")[1]       # ex.: \"1\" para Gasolina\n",
    "\n",
    "resultado = get_valor(\n",
    "    tipo_veiculo,\n",
    "    tabela,\n",
    "    codigo_marca,\n",
    "    codigo_modelo,\n",
    "    ano_modelo,\n",
    "    cod_combust\n",
    ")\n",
    "\n",
    "print(\"\\n--- Resultado FIPE ---\")\n",
    "print(f\"Veículo: {resultado['Marca']} {resultado['Modelo']}\")\n",
    "print(f\"Ano/Combustível: {resultado['AnoModelo']} / {resultado['Combustivel']}\")\n",
    "print(f\"Preço FIPE: {resultado['Valor']}\")\n"
   ]
  },
  {
   "cell_type": "code",
   "execution_count": null,
   "id": "7e40e8e0-d09f-4f70-bebf-d583437c03bd",
   "metadata": {},
   "outputs": [],
   "source": []
  }
 ],
 "metadata": {
  "kernelspec": {
   "display_name": "Python 3 (ipykernel)",
   "language": "python",
   "name": "python3"
  },
  "language_info": {
   "codemirror_mode": {
    "name": "ipython",
    "version": 3
   },
   "file_extension": ".py",
   "mimetype": "text/x-python",
   "name": "python",
   "nbconvert_exporter": "python",
   "pygments_lexer": "ipython3",
   "version": "3.12.7"
  }
 },
 "nbformat": 4,
 "nbformat_minor": 5
}
