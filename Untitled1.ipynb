{
 "cells": [
  {
   "cell_type": "code",
   "execution_count": null,
   "id": "bfd94036-741c-4272-9a62-90d78c3108fe",
   "metadata": {},
   "outputs": [],
   "source": []
  }
 ],
 "metadata": {
  "kernelspec": {
   "display_name": "",
   "name": ""
  },
  "language_info": {
   "name": ""
  }
 },
 "nbformat": 4,
 "nbformat_minor": 5
}
